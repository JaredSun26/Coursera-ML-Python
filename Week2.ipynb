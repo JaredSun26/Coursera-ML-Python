{
 "cells": [
  {
   "cell_type": "markdown",
   "metadata": {
    "collapsed": true
   },
   "source": [
    "# Visualizing the data"
   ]
  },
  {
   "cell_type": "code",
   "execution_count": 1,
   "metadata": {
    "collapsed": true
   },
   "outputs": [],
   "source": [
    "import numpy as np\n",
    "import matplotlib.pyplot as plt\n",
    "from scipy.optimize import minimize\n",
    "%matplotlib inline"
   ]
  },
  {
   "cell_type": "code",
   "execution_count": 2,
   "metadata": {
    "collapsed": false
   },
   "outputs": [
    {
     "data": {
      "text/plain": [
       "array([ 0.,  0.,  0.,  1.,  1.,  0.,  1.,  1.,  1.,  1.,  0.,  0.,  1.,\n",
       "        1.,  0.,  1.,  1.,  0.,  1.,  1.,  0.,  1.,  0.,  0.,  1.,  1.,\n",
       "        1.,  0.,  0.,  0.,  1.,  1.,  0.,  1.,  0.,  0.,  0.,  1.,  0.,\n",
       "        0.,  1.,  0.,  1.,  0.,  0.,  0.,  1.,  1.,  1.,  1.,  1.,  1.,\n",
       "        1.,  0.,  0.,  0.,  1.,  0.,  1.,  1.,  1.,  0.,  0.,  0.,  0.,\n",
       "        0.,  1.,  0.,  1.,  1.,  0.,  1.,  1.,  1.,  1.,  1.,  1.,  1.,\n",
       "        0.,  0.,  1.,  1.,  1.,  1.,  1.,  1.,  0.,  1.,  1.,  0.,  1.,\n",
       "        1.,  0.,  1.,  1.,  1.,  1.,  1.,  1.,  1.])"
      ]
     },
     "execution_count": 2,
     "metadata": {},
     "output_type": "execute_result"
    }
   ],
   "source": [
    "data = np.loadtxt('data/ex2data1.txt', delimiter=',')\n",
    "x = data[:, 0:2]\n",
    "y = data[:, 2]\n",
    "y"
   ]
  },
  {
   "cell_type": "code",
   "execution_count": 3,
   "metadata": {
    "collapsed": false
   },
   "outputs": [
    {
     "data": {
      "text/plain": [
       "<matplotlib.legend.Legend at 0x8239f98>"
      ]
     },
     "execution_count": 3,
     "metadata": {},
     "output_type": "execute_result"
    },
    {
     "data": {
      "image/png": "[encoded data removed]",
      "text/plain": [
       "<matplotlib.figure.Figure at 0x80ada90>"
      ]
     },
     "metadata": {},
     "output_type": "display_data"
    }
   ],
   "source": [
    "pos = y==1\n",
    "neg = y==0\n",
    "ad = plt.scatter(x[pos, 0], x[pos,1], c='black', marker='+')\n",
    "nad = plt.scatter(x[neg, 0], x[neg,1], c='yellow', marker='o')\n",
    "plt.legend((ad, nad), ('Admitted', 'Not admitted'), scatterpoints=1, loc=0)"
   ]
  },
  {
   "cell_type": "markdown",
   "metadata": {},
   "source": [
    "# Implementation"
   ]
  },
  {
   "cell_type": "markdown",
   "metadata": {},
   "source": [
    "### Logistic regression:"
   ]
  },
  {
   "cell_type": "markdown",
   "metadata": {},
   "source": [
    "\\begin{align}\n",
    "y_i|x_i, \\theta \\sim \\operatorname{Bern}(h(x_i\\theta))\\\\\n",
    "h(x) = \\frac{1}{1+e^{-x}}\n",
    "\\end{align}"
   ]
  },
  {
   "cell_type": "markdown",
   "metadata": {},
   "source": [
    "#### Sigmoid function"
   ]
  },
  {
   "cell_type": "markdown",
   "metadata": {},
   "source": [
    "\\begin{equation}\n",
    "h(x) = \\frac{1}{1+e^{-x}}\n",
    "\\end{equation}"
   ]
  },
  {
   "cell_type": "code",
   "execution_count": 4,
   "metadata": {
    "collapsed": true
   },
   "outputs": [],
   "source": [
    "#sigmoid function\n",
    "def sigm(x):\n",
    "    return(1/(1+np.exp(-x)))"
   ]
  },
  {
   "cell_type": "markdown",
   "metadata": {},
   "source": [
    "#### Cost function"
   ]
  },
  {
   "cell_type": "markdown",
   "metadata": {},
   "source": [
    "\\begin{equation}\n",
    "J(\\theta)=\\frac{1}{m}\\big((\\log(X\\theta))^T y+(\\log(\\boldsymbol{1}-h(X\\theta)))^T(\\boldsymbol{1}-y)\\big)\n",
    "\\end{equation}"
   ]
  },
  {
   "cell_type": "markdown",
   "metadata": {},
   "source": [
    "#### Gradient function"
   ]
  },
  {
   "cell_type": "markdown",
   "metadata": {},
   "source": [
    "\\begin{equation}\n",
    "\\frac{\\partial J(\\theta)}{\\partial \\theta} = \\frac{1}{m}X^T\\big(h(X\\theta)-y\\big)\n",
    "\\end{equation}"
   ]
  },
  {
   "cell_type": "code",
   "execution_count": 5,
   "metadata": {
    "collapsed": true
   },
   "outputs": [],
   "source": [
    "#cost function\n",
    "def costFunction(theta, X, y):\n",
    "    m = len(y)\n",
    "    #patch for log0:\n",
    "    hx = sigm(np.dot(X, theta)).clip(min = 0.0001, max = 0.9999)\n",
    "    J = 1/m*(-np.dot(y, np.log(hx))-np.dot((1-y),np.log(1-hx)))\n",
    "    return(J)"
   ]
  },
  {
   "cell_type": "code",
   "execution_count": 6,
   "metadata": {
    "collapsed": true
   },
   "outputs": [],
   "source": [
    "def gradient(theta, X, y):\n",
    "    m = len(y)\n",
    "    hx = sigm(np.dot(X, theta))\n",
    "    grad = 1/m*np.dot(X.T, hx-y)\n",
    "    return(grad.flatten())"
   ]
  },
  {
   "cell_type": "code",
   "execution_count": 7,
   "metadata": {
    "collapsed": false
   },
   "outputs": [],
   "source": [
    "m = len(y)\n",
    "X = np.column_stack((np.ones(m), x))\n",
    "p = X.shape[1]\n",
    "initial_theta = np.zeros(p)"
   ]
  },
  {
   "cell_type": "code",
   "execution_count": 8,
   "metadata": {
    "collapsed": false
   },
   "outputs": [],
   "source": [
    "cost = costFunction(initial_theta, X, y)\n",
    "grad = gradient(initial_theta, X, y)"
   ]
  },
  {
   "cell_type": "code",
   "execution_count": 9,
   "metadata": {
    "collapsed": false
   },
   "outputs": [
    {
     "name": "stdout",
     "output_type": "stream",
     "text": [
      "Cost at initial theta (zerors): 0.69314718056\n",
      "Gradient at initial theta (zeros): [ -0.1        -12.00921659 -11.26284221]\n"
     ]
    }
   ],
   "source": [
    "print('Cost at initial theta (zerors):', cost)\n",
    "print('Gradient at initial theta (zeros):', grad)\n"
   ]
  },
  {
   "cell_type": "markdown",
   "metadata": {},
   "source": [
    "#### Learning parameters"
   ]
  },
  {
   "cell_type": "code",
   "execution_count": 10,
   "metadata": {
    "collapsed": false
   },
   "outputs": [
    {
     "data": {
      "text/plain": [
       "      fun: 0.20350403436042627\n",
       " hess_inv: array([[  3.02919952e+03,  -2.46256615e+01,  -2.40804280e+01],\n",
       "       [ -2.46256615e+01,   2.14884541e-01,   1.82859150e-01],\n",
       "       [ -2.40804280e+01,   1.82859150e-01,   2.06127428e-01]])\n",
       "      jac: array([ -4.75704463e-06,  -3.43208378e-04,  -3.08298743e-04])\n",
       "  message: 'Desired error not necessarily achieved due to precision loss.'\n",
       "     nfev: 73\n",
       "      nit: 20\n",
       "     njev: 61\n",
       "   status: 2\n",
       "  success: False\n",
       "        x: array([-25.15971027,   0.20621771,   0.20145813])"
      ]
     },
     "execution_count": 10,
     "metadata": {},
     "output_type": "execute_result"
    }
   ],
   "source": [
    "res = minimize(costFunction, initial_theta, args=(X,y), jac=gradient, options={'maxiter':400})\n",
    "res"
   ]
  },
  {
   "cell_type": "markdown",
   "metadata": {},
   "source": [
    "#### Prediction and Evaluation"
   ]
  },
  {
   "cell_type": "code",
   "execution_count": 11,
   "metadata": {
    "collapsed": false
   },
   "outputs": [
    {
     "name": "stdout",
     "output_type": "stream",
     "text": [
      "Admission probability: 0.776264384119\n"
     ]
    }
   ],
   "source": [
    "theta = res.x\n",
    "#student with exam 1 score 45 and exam 2 score 85:\n",
    "print('Admission probability:', sigm(np.dot([1, 45, 85], theta)))"
   ]
  },
  {
   "cell_type": "markdown",
   "metadata": {},
   "source": [
    "#### Decision boundary"
   ]
  },
  {
   "cell_type": "code",
   "execution_count": 12,
   "metadata": {
    "collapsed": false
   },
   "outputs": [
    {
     "data": {
      "text/plain": [
       "<matplotlib.text.Text at 0x87270b8>"
      ]
     },
     "execution_count": 12,
     "metadata": {},
     "output_type": "execute_result"
    },
    {
     "data": {
      "image/png": "[encoded data removed]",
      "text/plain": [
       "<matplotlib.figure.Figure at 0x8704da0>"
      ]
     },
     "metadata": {},
     "output_type": "display_data"
    }
   ],
   "source": [
    "# pos = y==1\n",
    "neg = y==0\n",
    "ad = plt.scatter(x[pos, 0], x[pos,1], c='black', marker='+')\n",
    "nad = plt.scatter(x[neg, 0], x[neg,1], c='yellow', marker='o')\n",
    "x1_min, x1_max = X[:,1].min(), X[:,2].max()\n",
    "bd, = plt.plot([x1_min, x1_max], [(-theta[1]*x1_min-theta[0])/theta[2], (-theta[1]*x1_max-theta[0])/theta[2]])\n",
    "plt.legend((ad, nad, bd), ('Admitted', 'Not admitted', 'Boundary'), scatterpoints=1, loc=0)\n",
    "#plt.legend(bd, loc=2)\n",
    "plt.xlabel('Exam 1 score')\n",
    "plt.ylabel('Exam 2 score')"
   ]
  },
  {
   "cell_type": "code",
   "execution_count": null,
   "metadata": {
    "collapsed": true
   },
   "outputs": [],
   "source": []
  }
 ],
 "metadata": {
  "anaconda-cloud": {},
  "kernelspec": {
   "display_name": "Python [Root]",
   "language": "python",
   "name": "Python [Root]"
  },
  "language_info": {
   "codemirror_mode": {
    "name": "ipython",
    "version": 3
   },
   "file_extension": ".py",
   "mimetype": "text/x-python",
   "name": "python",
   "nbconvert_exporter": "python",
   "pygments_lexer": "ipython3",
   "version": "3.5.2"
  }
 },
 "nbformat": 4,
 "nbformat_minor": 0
}

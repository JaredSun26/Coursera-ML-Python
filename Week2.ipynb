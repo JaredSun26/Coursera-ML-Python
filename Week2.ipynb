{
 "cells": [
  {
   "cell_type": "markdown",
   "metadata": {},
   "source": [
    "# Logistic Regression"
   ]
  },
  {
   "cell_type": "markdown",
   "metadata": {
    "collapsed": true
   },
   "source": [
    "## Visualizing the data"
   ]
  },
  {
   "cell_type": "code",
   "execution_count": 1,
   "metadata": {
    "collapsed": true
   },
   "outputs": [],
   "source": [
    "import numpy as np\n",
    "import matplotlib.pyplot as plt\n",
    "import matplotlib.lines as mlines\n",
    "from scipy.optimize import minimize\n",
    "from sklearn.preprocessing import PolynomialFeatures\n",
    "%matplotlib inline"
   ]
  },
  {
   "cell_type": "code",
   "execution_count": 2,
   "metadata": {
    "collapsed": false
   },
   "outputs": [],
   "source": [
    "data = np.loadtxt('data/ex2data1.txt', delimiter=',')\n",
    "x = data[:, 0:2]\n",
    "y = data[:, 2]"
   ]
  },
  {
   "cell_type": "code",
   "execution_count": 3,
   "metadata": {
    "collapsed": false
   },
   "outputs": [],
   "source": [
    "def plotData(x, y, xlabel, ylabel, posLabel, negLabel, pdProxy = None, pdLabel = None, axes = None):\n",
    "    pos = y == 1\n",
    "    neg = y == 0\n",
    "    \n",
    "    if axes == None:\n",
    "        axes = plt.gca()\n",
    "        \n",
    "    posPts = axes.scatter(x[pos, 0], x[pos,1], c='black', marker='+')\n",
    "    negPts = axes.scatter(x[neg, 0], x[neg,1], c='yellow', marker='o')    \n",
    "    \n",
    "    lgHandles = [posPts, negPts, pdProxy]\n",
    "    lgLabels = [posLabel, negLabel, pdLabel]\n",
    "    \n",
    "    if pdProxy == None:\n",
    "        lgHandles = lgHandles[0:2]\n",
    "        lgLabels = lgLabels[0:2]\n",
    "        \n",
    "    axes.legend(lgHandles, lgLabels, loc=0, scatterpoints = 1)\n",
    "    axes.xlabel = xlabel\n",
    "    axes.ylabel = ylabel"
   ]
  },
  {
   "cell_type": "code",
   "execution_count": 4,
   "metadata": {
    "collapsed": false
   },
   "outputs": [
    {
     "data": {
      "image/png": "[encoded data removed]",
      "text/plain": [
       "<matplotlib.figure.Figure at 0x8420668>"
      ]
     },
     "metadata": {},
     "output_type": "display_data"
    }
   ],
   "source": [
    "plotData(x, y, 'Test 1 score', 'Test 2 score', 'Admitted', 'Not admitted')"
   ]
  },
  {
   "cell_type": "markdown",
   "metadata": {},
   "source": [
    "## Implementation"
   ]
  },
  {
   "cell_type": "markdown",
   "metadata": {},
   "source": [
    "### Logistic regression:"
   ]
  },
  {
   "cell_type": "markdown",
   "metadata": {},
   "source": [
    "\\begin{align}\n",
    "y_i|x_i, \\theta \\sim \\operatorname{Bern}(h(x_i\\theta))\\\\\n",
    "h(x) = \\frac{1}{1+e^{-x}}\n",
    "\\end{align}"
   ]
  },
  {
   "cell_type": "markdown",
   "metadata": {},
   "source": [
    "#### Sigmoid function"
   ]
  },
  {
   "cell_type": "markdown",
   "metadata": {},
   "source": [
    "\\begin{equation}\n",
    "h(x) = \\frac{1}{1+e^{-x}}\n",
    "\\end{equation}"
   ]
  },
  {
   "cell_type": "code",
   "execution_count": 5,
   "metadata": {
    "collapsed": true
   },
   "outputs": [],
   "source": [
    "#sigmoid function\n",
    "def sigm(x):\n",
    "    return(1/(1+np.exp(-x)))"
   ]
  },
  {
   "cell_type": "markdown",
   "metadata": {},
   "source": [
    "#### Cost function"
   ]
  },
  {
   "cell_type": "markdown",
   "metadata": {},
   "source": [
    "\\begin{equation}\n",
    "J(\\theta)=\\frac{1}{m}\\big((\\log(X\\theta))^T y+(\\log(\\boldsymbol{1}-h(X\\theta)))^T(\\boldsymbol{1}-y)\\big)\n",
    "\\end{equation}"
   ]
  },
  {
   "cell_type": "markdown",
   "metadata": {},
   "source": [
    "#### Gradient function"
   ]
  },
  {
   "cell_type": "markdown",
   "metadata": {},
   "source": [
    "\\begin{equation}\n",
    "\\frac{\\partial J(\\theta)}{\\partial \\theta} = \\frac{1}{m}X^T\\big(h(X\\theta)-y\\big)\n",
    "\\end{equation}"
   ]
  },
  {
   "cell_type": "code",
   "execution_count": 6,
   "metadata": {
    "collapsed": true
   },
   "outputs": [],
   "source": [
    "#cost function\n",
    "def costFunction(theta, X, y):\n",
    "    m = len(y)\n",
    "    #patch for log0:\n",
    "    hx = sigm(np.dot(X, theta)).clip(min = 0.0001, max = 0.9999)\n",
    "    J = 1/m*(-np.dot(y, np.log(hx))-np.dot((1-y),np.log(1-hx)))\n",
    "    return(J)"
   ]
  },
  {
   "cell_type": "code",
   "execution_count": 7,
   "metadata": {
    "collapsed": true
   },
   "outputs": [],
   "source": [
    "def gradient(theta, X, y):\n",
    "    m = len(y)\n",
    "    hx = sigm(np.dot(X, theta))\n",
    "    grad = 1/m*np.dot(X.T, hx-y)\n",
    "    return(grad.flatten())"
   ]
  },
  {
   "cell_type": "code",
   "execution_count": 8,
   "metadata": {
    "collapsed": false
   },
   "outputs": [],
   "source": [
    "m = len(y)\n",
    "X = np.column_stack((np.ones(m), x))\n",
    "p = X.shape[1]\n",
    "initial_theta = np.zeros(p)"
   ]
  },
  {
   "cell_type": "code",
   "execution_count": 9,
   "metadata": {
    "collapsed": false
   },
   "outputs": [],
   "source": [
    "cost = costFunction(initial_theta, X, y)\n",
    "grad = gradient(initial_theta, X, y)"
   ]
  },
  {
   "cell_type": "code",
   "execution_count": 10,
   "metadata": {
    "collapsed": false
   },
   "outputs": [
    {
     "name": "stdout",
     "output_type": "stream",
     "text": [
      "Cost at initial theta (zerors): 0.69314718056\n",
      "Gradient at initial theta (zeros): [ -0.1        -12.00921659 -11.26284221]\n"
     ]
    }
   ],
   "source": [
    "print('Cost at initial theta (zerors):', cost)\n",
    "print('Gradient at initial theta (zeros):', grad)\n"
   ]
  },
  {
   "cell_type": "markdown",
   "metadata": {},
   "source": [
    "#### Learning parameters"
   ]
  },
  {
   "cell_type": "code",
   "execution_count": 11,
   "metadata": {
    "collapsed": false
   },
   "outputs": [
    {
     "data": {
      "text/plain": [
       "      fun: 0.20350403436042627\n",
       " hess_inv: array([[  3.02919952e+03,  -2.46256615e+01,  -2.40804280e+01],\n",
       "       [ -2.46256615e+01,   2.14884541e-01,   1.82859150e-01],\n",
       "       [ -2.40804280e+01,   1.82859150e-01,   2.06127428e-01]])\n",
       "      jac: array([ -4.75704463e-06,  -3.43208378e-04,  -3.08298743e-04])\n",
       "  message: 'Desired error not necessarily achieved due to precision loss.'\n",
       "     nfev: 73\n",
       "      nit: 20\n",
       "     njev: 61\n",
       "   status: 2\n",
       "  success: False\n",
       "        x: array([-25.15971027,   0.20621771,   0.20145813])"
      ]
     },
     "execution_count": 11,
     "metadata": {},
     "output_type": "execute_result"
    }
   ],
   "source": [
    "res = minimize(costFunction, initial_theta, args=(X,y), jac=gradient, options={'maxiter':400})\n",
    "res"
   ]
  },
  {
   "cell_type": "markdown",
   "metadata": {},
   "source": [
    "#### Prediction and Evaluation"
   ]
  },
  {
   "cell_type": "code",
   "execution_count": 12,
   "metadata": {
    "collapsed": false
   },
   "outputs": [
    {
     "name": "stdout",
     "output_type": "stream",
     "text": [
      "Admission probability: 0.776264384119\n"
     ]
    }
   ],
   "source": [
    "theta = res.x\n",
    "#student with exam 1 score 45 and exam 2 score 85:\n",
    "print('Admission probability:', sigm(np.dot([1, 45, 85], theta)))"
   ]
  },
  {
   "cell_type": "markdown",
   "metadata": {},
   "source": [
    "#### Decision boundary"
   ]
  },
  {
   "cell_type": "code",
   "execution_count": 13,
   "metadata": {
    "collapsed": false
   },
   "outputs": [
    {
     "data": {
      "image/png": "[encoded data removed]",
      "text/plain": [
       "<matplotlib.figure.Figure at 0x8480fd0>"
      ]
     },
     "metadata": {},
     "output_type": "display_data"
    }
   ],
   "source": [
    "x1_min, x1_max = X[:,1].min(), X[:,2].max()\n",
    "bd, = plt.plot([x1_min, x1_max], [(-theta[1]*x1_min-theta[0])/theta[2], (-theta[1]*x1_max-theta[0])/theta[2]], color = 'blue')\n",
    "bd_line = mlines.Line2D([], [], color='blue')\n",
    "\n",
    "plotData(x, y, 'Test 1 score', 'Test 2 score', 'Admitted', 'Not admitted', pdProxy = bd_line, pdLabel = \"Boundary\")"
   ]
  },
  {
   "cell_type": "code",
   "execution_count": 14,
   "metadata": {
    "collapsed": false
   },
   "outputs": [],
   "source": [
    "def predict(theta, X, thres = 0.5):\n",
    "    return(sigm(X.dot(theta))>= thres).astype(\"int\")"
   ]
  },
  {
   "cell_type": "code",
   "execution_count": 15,
   "metadata": {
    "collapsed": false
   },
   "outputs": [
    {
     "name": "stdout",
     "output_type": "stream",
     "text": [
      "Accuracy: 0.89\n"
     ]
    }
   ],
   "source": [
    "print('Accuracy:', sum(predict(theta, X)==y)/X.shape[0])"
   ]
  },
  {
   "cell_type": "markdown",
   "metadata": {},
   "source": [
    "# Regularized logistic regression"
   ]
  },
  {
   "cell_type": "markdown",
   "metadata": {},
   "source": [
    "#### Visualizing the data"
   ]
  },
  {
   "cell_type": "code",
   "execution_count": 16,
   "metadata": {
    "collapsed": true
   },
   "outputs": [],
   "source": [
    "data2 = np.loadtxt('data/ex2data2.txt', delimiter=',')\n",
    "x2 = data2[:, 0:2]\n",
    "y2 = data2[:, 2]"
   ]
  },
  {
   "cell_type": "code",
   "execution_count": 17,
   "metadata": {
    "collapsed": false
   },
   "outputs": [
    {
     "data": {
      "text/plain": [
       "<matplotlib.legend.Legend at 0x8a8e7b8>"
      ]
     },
     "execution_count": 17,
     "metadata": {},
     "output_type": "execute_result"
    },
    {
     "data": {
      "image/png": "[encoded data removed]",
      "text/plain": [
       "<matplotlib.figure.Figure at 0x8a0c128>"
      ]
     },
     "metadata": {},
     "output_type": "display_data"
    }
   ],
   "source": [
    "pos2 = y2 == 1\n",
    "neg2 = y2 == 0\n",
    "acp = plt.scatter(x2[pos2, 0], x2[pos2, 1], c = 'black', marker = '+')\n",
    "rej = plt.scatter(x2[neg2, 0], x2[neg2, 1], c = 'yellow', marker = 'o')\n",
    "plt.legend((acp, rej), ('Accpeted', 'Rejected'), scatterpoints=1, loc=0)"
   ]
  },
  {
   "cell_type": "code",
   "execution_count": 18,
   "metadata": {
    "collapsed": false
   },
   "outputs": [],
   "source": [
    "m2 = len(y2)\n",
    "poly = PolynomialFeatures(6)\n",
    "X2 = poly.fit_transform(x2)\n",
    "p2 = X2.shape[1]"
   ]
  },
  {
   "cell_type": "code",
   "execution_count": 19,
   "metadata": {
    "collapsed": false
   },
   "outputs": [
    {
     "data": {
      "text/plain": [
       "(118, 28)"
      ]
     },
     "execution_count": 19,
     "metadata": {},
     "output_type": "execute_result"
    }
   ],
   "source": [
    "X2.shape"
   ]
  },
  {
   "cell_type": "markdown",
   "metadata": {},
   "source": [
    "#### Regularized Cost Function"
   ]
  },
  {
   "cell_type": "markdown",
   "metadata": {},
   "source": [
    "\\begin{equation}\n",
    "J(\\theta)=\\frac{1}{m}\\big((\\log(X\\theta))^T y+(\\log(\\boldsymbol{1}-h(X\\theta)))^T(\\boldsymbol{1}-y)\\big)+\\frac{\\lambda}{2m}\\theta^T\\theta \n",
    "\\end{equation}"
   ]
  },
  {
   "cell_type": "markdown",
   "metadata": {},
   "source": [
    "#### Regularized gradient"
   ]
  },
  {
   "cell_type": "markdown",
   "metadata": {},
   "source": [
    "\\begin{equation}\n",
    "\\frac{\\partial J(\\theta)}{\\partial \\theta} = \\frac{1}{m}X^T\\big(h(X\\theta)-y\\big)+\\frac{\\lambda}{m}\\theta\n",
    "\\end{equation}"
   ]
  },
  {
   "cell_type": "code",
   "execution_count": 20,
   "metadata": {
    "collapsed": false
   },
   "outputs": [],
   "source": [
    "#regularized cost function\n",
    "def costFunctionReg(theta, X, y, lam):\n",
    "    m = len(y)\n",
    "    #patch for log0:\n",
    "    hx = sigm(np.dot(X, theta)).clip(min = 0.0001, max = 0.9999)\n",
    "    J = 1/m*(-np.dot(y, np.log(hx))-np.dot((1-y),np.log(1-hx)))+lam/2/m*theta.dot(theta)\n",
    "    return(J)"
   ]
  },
  {
   "cell_type": "code",
   "execution_count": 21,
   "metadata": {
    "collapsed": true
   },
   "outputs": [],
   "source": [
    "def gradientReg(theta, X, y, lam):\n",
    "    m = len(y)\n",
    "    hx = sigm(np.dot(X, theta))\n",
    "    grad = 1/m*np.dot(X.T, hx-y)+lam/m*theta\n",
    "    return(grad.flatten())"
   ]
  },
  {
   "cell_type": "code",
   "execution_count": 22,
   "metadata": {
    "collapsed": false
   },
   "outputs": [
    {
     "data": {
      "text/plain": [
       "0.69314718055994529"
      ]
     },
     "execution_count": 22,
     "metadata": {},
     "output_type": "execute_result"
    }
   ],
   "source": [
    "initial_theta = np.zeros(p2)\n",
    "costFunctionReg(initial_theta, X2, y2, 1)"
   ]
  },
  {
   "cell_type": "markdown",
   "metadata": {},
   "source": [
    "#### Decision boundary"
   ]
  },
  {
   "cell_type": "code",
   "execution_count": 23,
   "metadata": {
    "collapsed": false
   },
   "outputs": [
    {
     "name": "stderr",
     "output_type": "stream",
     "text": [
      "C:\\Anaconda3\\lib\\site-packages\\ipykernel\\__main__.py:3: RuntimeWarning: overflow encountered in exp\n",
      "  app.launch_new_instance()\n"
     ]
    },
    {
     "data": {
      "image/png": "[encoded data removed]",
      "text/plain": [
       "<matplotlib.figure.Figure at 0x8a40ba8>"
      ]
     },
     "metadata": {},
     "output_type": "display_data"
    }
   ],
   "source": [
    "fig, axes = plt.subplots(1,3, sharey = True, figsize=(17,5))\n",
    "\n",
    "for i, thres in enumerate([0, 1, 100]):\n",
    "    \n",
    "    #Learn the parameters\n",
    "    res2 = minimize(costFunctionReg, initial_theta, args=(X2, y2, thres), jac=gradientReg, options={'maxiter':3000})\n",
    "    theta2 = res2.x\n",
    "    \n",
    "    #Accuracy\n",
    "    accuracy=100*sum(predict(theta2, X2) == y2)/m2\n",
    "    \n",
    "    #Plot \n",
    "    x1Grid = np.linspace(x2[:,0].min(), x2[:,0].max())\n",
    "    x2Grid = np.linspace(x2[:,1].min(), x2[:,1].max())\n",
    "    \n",
    "    xx1, xx2 = np.meshgrid(x1Grid, x2Grid)\n",
    "    h = sigm(poly.fit_transform(np.column_stack((xx1.ravel(), xx2.ravel()))).dot(theta2))\n",
    "    h = h.reshape(xx1.shape)\n",
    "    \n",
    "    acp = axes[i].scatter(x2[pos2, 0], x2[pos2, 1], c = 'black', marker = '+')\n",
    "    rej = axes[i].scatter(x2[neg2, 0], x2[neg2, 1], c = 'yellow', marker = 'o')\n",
    "    bd = axes[i].contour(xx1, xx2, h, [0.5], linewidths =1, colors='g')\n",
    "    bd_line = mlines.Line2D([],[], color='g')\n",
    "    \n",
    "    plotData(x2, y2, 'Microchip Test 1', 'Microchip Test 2', 'Accepted', 'Rejected', \n",
    "             pdProxy = bd_line, pdLabel = \"Bounary\", axes = axes[i])\n",
    "    axes[i].set_title('Train accuracy {}% with Lambda = {}'.format(np.round(accuracy, decimals=2), thres))"
   ]
  }
 ],
 "metadata": {
  "anaconda-cloud": {},
  "kernelspec": {
   "display_name": "Python [Root]",
   "language": "python",
   "name": "Python [Root]"
  },
  "language_info": {
   "codemirror_mode": {
    "name": "ipython",
    "version": 3
   },
   "file_extension": ".py",
   "mimetype": "text/x-python",
   "name": "python",
   "nbconvert_exporter": "python",
   "pygments_lexer": "ipython3",
   "version": "3.5.2"
  }
 },
 "nbformat": 4,
 "nbformat_minor": 0
}

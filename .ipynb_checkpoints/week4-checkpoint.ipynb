{
 "cells": [
  {
   "cell_type": "code",
   "execution_count": 1,
   "metadata": {
    "collapsed": true
   },
   "outputs": [],
   "source": [
    "import numpy as np\n",
    "import pandas as pd\n",
    "import matplotlib.pyplot as plt\n",
    "import scipy.io as sio\n",
    "from scipy.optimize import minimize\n",
    "%matplotlib inline"
   ]
  },
  {
   "cell_type": "code",
   "execution_count": 2,
   "metadata": {
    "collapsed": true
   },
   "outputs": [],
   "source": [
    "data = sio.loadmat('data/ex3data1.mat')\n",
    "weights = sio.loadmat('data/ex3weights.mat')"
   ]
  },
  {
   "cell_type": "code",
   "execution_count": 3,
   "metadata": {
    "collapsed": false
   },
   "outputs": [
    {
     "data": {
      "text/plain": [
       "dict_keys(['__version__', 'X', '__globals__', '__header__', 'y'])"
      ]
     },
     "execution_count": 3,
     "metadata": {},
     "output_type": "execute_result"
    }
   ],
   "source": [
    "data.keys()"
   ]
  },
  {
   "cell_type": "code",
   "execution_count": 4,
   "metadata": {
    "collapsed": false
   },
   "outputs": [
    {
     "data": {
      "text/plain": [
       "dict_keys(['Theta2', '__version__', '__globals__', '__header__', 'Theta1'])"
      ]
     },
     "execution_count": 4,
     "metadata": {},
     "output_type": "execute_result"
    }
   ],
   "source": [
    "weights.keys()"
   ]
  },
  {
   "cell_type": "code",
   "execution_count": 5,
   "metadata": {
    "collapsed": false
   },
   "outputs": [],
   "source": [
    "X = data['X']\n",
    "y = data['y'].flatten()\n",
    "theta1 = weights['Theta1']\n",
    "theta2 = weights['Theta2']\n",
    "para = np.append(theta1.flatten(), theta2.flatten())"
   ]
  },
  {
   "cell_type": "code",
   "execution_count": 6,
   "metadata": {
    "collapsed": false
   },
   "outputs": [],
   "source": [
    "temp = np.linspace(0, 9, 10)"
   ]
  },
  {
   "cell_type": "markdown",
   "metadata": {},
   "source": [
    "# Feedforward and cost function"
   ]
  },
  {
   "cell_type": "markdown",
   "metadata": {},
   "source": [
    "#### Cost function for the neural network"
   ]
  },
  {
   "cell_type": "markdown",
   "metadata": {},
   "source": [
    "\\begin{equation}\n",
    "J(\\theta) = \\frac{1}{m}\\sum_{i=1}^m \\sum_{k=1}^K [-y_k^{(i)}\\log((h_{\\theta}(x^{(i)}))_k) -(1 - y_k^{(i)})\\log(1-(h_{\\theta}(x^{(i)}))_k) ]\n",
    "\\end{equation}"
   ]
  },
  {
   "cell_type": "code",
   "execution_count": 7,
   "metadata": {
    "collapsed": true
   },
   "outputs": [],
   "source": [
    "#sigmoid function\n",
    "def sigm(x):\n",
    "    return(1/(1+np.exp(-x)))"
   ]
  },
  {
   "cell_type": "code",
   "execution_count": 8,
   "metadata": {
    "collapsed": true
   },
   "outputs": [],
   "source": [
    "def sigmoidGradient(x):\n",
    "    return(sigm(x)*(1-sigm(x)))"
   ]
  },
  {
   "cell_type": "code",
   "execution_count": 9,
   "metadata": {
    "collapsed": true
   },
   "outputs": [],
   "source": [
    "def randInitializeWeights(L_in, L_out, epsilon_init = 0.12):\n",
    "    return(np.random.uniform(-epsilon_init, epsilon_init, (L_out, 1 + L_in)))    "
   ]
  },
  {
   "cell_type": "code",
   "execution_count": 10,
   "metadata": {
    "collapsed": true
   },
   "outputs": [],
   "source": [
    "def _feedforward(Theta1, Theta2, X, m):\n",
    "    a1 = np.column_stack((np.ones(m), X)) #5000x401\n",
    "    z2 = a1.dot(Theta1.T) # 5000x401 * 401x25 = 5000x25 \n",
    "    a2 = np.column_stack((np.ones(z2.shape[0]), sigm(z2))) # 5000x26\n",
    "    z3 = a2.dot(Theta2.T) # 5000x26 * 26x10 = 5000x10\n",
    "    a3 = sigm(z3) #5000x10\n",
    "    return(a1, a2, a3, z2, z3)"
   ]
  },
  {
   "cell_type": "code",
   "execution_count": 11,
   "metadata": {
    "collapsed": true
   },
   "outputs": [],
   "source": [
    "#cost function\n",
    "def nnCostFunction(nn_params, input_layer_size, hidden_layer_size, num_labels, X, y, lam):\n",
    "    Theta1 = np.reshape(nn_params[:((input_layer_size+1)*hidden_layer_size)], (hidden_layer_size, input_layer_size+1))\n",
    "    Theta2 = np.reshape(nn_params[((input_layer_size+1)*hidden_layer_size):], (num_labels, hidden_layer_size+1))\n",
    "    \n",
    "    m = X.shape[0]\n",
    "    J = 0\n",
    "    \n",
    "    #recode y\n",
    "    y_new = pd.get_dummies(y).as_matrix() # 5000*10\n",
    "    \n",
    "    #feedforwad\n",
    "    a1, a2, a3, z2, z3 = _feedforward(Theta1, Theta2, X, m)\n",
    "    \n",
    "    #cost\n",
    "    J = 1/m*(-np.sum((y_new * np.log(a3)))-np.sum((1-y_new)*np.log(1-a3)))\\\n",
    "    + lam/(2*m) * (np.sum(np.square(Theta1[:,1:])) + np.sum(np.square(Theta2[:,1:])))\n",
    "    \n",
    "    return(J)"
   ]
  },
  {
   "cell_type": "code",
   "execution_count": 12,
   "metadata": {
    "collapsed": false
   },
   "outputs": [
    {
     "data": {
      "text/plain": [
       "0.38376985909092359"
      ]
     },
     "execution_count": 12,
     "metadata": {},
     "output_type": "execute_result"
    }
   ],
   "source": [
    "nnCostFunction(para, 400, 25, 10, X, y, 1)"
   ]
  },
  {
   "cell_type": "code",
   "execution_count": 13,
   "metadata": {
    "collapsed": true
   },
   "outputs": [],
   "source": [
    "#gradient function\n",
    "def nnGradientFun(nn_params, input_layer_size, hidden_layer_size, num_labels, X, y, lam):\n",
    "    Theta1 = np.reshape(nn_params[:((input_layer_size+1)*hidden_layer_size)], (hidden_layer_size, input_layer_size+1))\n",
    "    Theta2 = np.reshape(nn_params[((input_layer_size+1)*hidden_layer_size):], (num_labels, hidden_layer_size+1))\n",
    "    \n",
    "    Theta1_grad = np.zeros(Theta1.size) # 25x401\n",
    "    Theta2_grad = np.zeros(Theta2.size) # 10x26\n",
    "    \n",
    "    m = X.shape[0]\n",
    "    a1, a2, a3, z2, z3 = _feedforward(Theta1, Theta2, X, m)\n",
    "    #gradient\n",
    "    d3 = a3 - y_new # 5000x10\n",
    "    d2 = d3.dot(Theta2[:,1:])*sigmoidGradient(z2) # 5000x10*10x25 = 5000x25\n",
    "    \n",
    "    Theta2_grad = 1/m*d3.T.dot(a2) # 10x5000*5000x26 = 10x26\n",
    "    Theta1_grad = 1/m*d2.T.dot(a1) # 25x5000*5000x401 = 25x401"
   ]
  },
  {
   "cell_type": "code",
   "execution_count": null,
   "metadata": {
    "collapsed": true
   },
   "outputs": [],
   "source": []
  }
 ],
 "metadata": {
  "anaconda-cloud": {},
  "kernelspec": {
   "display_name": "Python [Root]",
   "language": "python",
   "name": "Python [Root]"
  },
  "language_info": {
   "codemirror_mode": {
    "name": "ipython",
    "version": 3
   },
   "file_extension": ".py",
   "mimetype": "text/x-python",
   "name": "python",
   "nbconvert_exporter": "python",
   "pygments_lexer": "ipython3",
   "version": "3.5.2"
  }
 },
 "nbformat": 4,
 "nbformat_minor": 0
}

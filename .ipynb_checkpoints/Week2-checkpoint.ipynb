{
 "cells": [
  {
   "cell_type": "markdown",
   "metadata": {
    "collapsed": true
   },
   "source": [
    "# Visualizing the data"
   ]
  },
  {
   "cell_type": "code",
   "execution_count": 1,
   "metadata": {
    "collapsed": true
   },
   "outputs": [],
   "source": [
    "import numpy as np\n",
    "import matplotlib.pyplot as plt\n",
    "from scipy.optimize import minimize\n",
    "%matplotlib inline"
   ]
  },
  {
   "cell_type": "code",
   "execution_count": 2,
   "metadata": {
    "collapsed": false
   },
   "outputs": [
    {
     "data": {
      "text/plain": [
       "array([ 0.,  0.,  0.,  1.,  1.,  0.,  1.,  1.,  1.,  1.,  0.,  0.,  1.,\n",
       "        1.,  0.,  1.,  1.,  0.,  1.,  1.,  0.,  1.,  0.,  0.,  1.,  1.,\n",
       "        1.,  0.,  0.,  0.,  1.,  1.,  0.,  1.,  0.,  0.,  0.,  1.,  0.,\n",
       "        0.,  1.,  0.,  1.,  0.,  0.,  0.,  1.,  1.,  1.,  1.,  1.,  1.,\n",
       "        1.,  0.,  0.,  0.,  1.,  0.,  1.,  1.,  1.,  0.,  0.,  0.,  0.,\n",
       "        0.,  1.,  0.,  1.,  1.,  0.,  1.,  1.,  1.,  1.,  1.,  1.,  1.,\n",
       "        0.,  0.,  1.,  1.,  1.,  1.,  1.,  1.,  0.,  1.,  1.,  0.,  1.,\n",
       "        1.,  0.,  1.,  1.,  1.,  1.,  1.,  1.,  1.])"
      ]
     },
     "execution_count": 2,
     "metadata": {},
     "output_type": "execute_result"
    }
   ],
   "source": [
    "data = np.loadtxt('data/ex2data1.txt', delimiter=',')\n",
    "x = data[:, 0:2]\n",
    "y = data[:, 2]\n",
    "y"
   ]
  },
  {
   "cell_type": "code",
   "execution_count": 3,
   "metadata": {
    "collapsed": false
   },
   "outputs": [
    {
     "data": {
      "text/plain": [
       "<matplotlib.legend.Legend at 0x7f3fe48>"
      ]
     },
     "execution_count": 3,
     "metadata": {},
     "output_type": "execute_result"
    },
    {
     "data": {
      "image/png": "[encoded data removed]",
      "text/plain": [
       "<matplotlib.figure.Figure at 0x7dab978>"
      ]
     },
     "metadata": {},
     "output_type": "display_data"
    }
   ],
   "source": [
    "pos = y==1\n",
    "neg = y==0\n",
    "ad = plt.scatter(x[pos, 0], x[pos,1], c='black', marker='+')\n",
    "nad = plt.scatter(x[neg, 0], x[neg,1], c='yellow', marker='o')\n",
    "plt.legend((ad, nad), ('Admitted', 'Not admitted'), scatterpoints=1, loc=0)"
   ]
  },
  {
   "cell_type": "markdown",
   "metadata": {},
   "source": [
    "# Implementation"
   ]
  },
  {
   "cell_type": "markdown",
   "metadata": {},
   "source": [
    "### Logistic regression:"
   ]
  },
  {
   "cell_type": "markdown",
   "metadata": {},
   "source": [
    "\\begin{align}\n",
    "y_i|x_i, \\theta \\sim \\operatorname{Bern}(h(x_i\\theta))\\\\\n",
    "h(x) = \\frac{1}{1+e^{-x}}\n",
    "\\end{align}"
   ]
  },
  {
   "cell_type": "markdown",
   "metadata": {},
   "source": [
    "#### Sigmoid function"
   ]
  },
  {
   "cell_type": "markdown",
   "metadata": {},
   "source": [
    "\\begin{equation}\n",
    "h(x) = \\frac{1}{1+e^{-x}}\n",
    "\\end{equation}"
   ]
  },
  {
   "cell_type": "code",
   "execution_count": 4,
   "metadata": {
    "collapsed": true
   },
   "outputs": [],
   "source": [
    "#sigmoid function\n",
    "def sigm(x):\n",
    "    return(1/(1+np.exp(-x)))"
   ]
  },
  {
   "cell_type": "markdown",
   "metadata": {},
   "source": [
    "#### Cost function"
   ]
  },
  {
   "cell_type": "markdown",
   "metadata": {},
   "source": [
    "\\begin{equation}\n",
    "J(\\theta)=\\frac{1}{m}\\big((\\log(X\\theta))^T y+(\\log(\\boldsymbol{1}-h(X\\theta)))^T(\\boldsymbol{1}-y)\\big)\n",
    "\\end{equation}"
   ]
  },
  {
   "cell_type": "markdown",
   "metadata": {},
   "source": [
    "#### Gradient function"
   ]
  },
  {
   "cell_type": "markdown",
   "metadata": {},
   "source": [
    "\\begin{equation}\n",
    "\\frac{\\partial J(\\theta)}{\\partial \\theta} = \\frac{1}{m}X^T\\big(h(X\\theta)-y\\big)\n",
    "\\end{equation}"
   ]
  },
  {
   "cell_type": "code",
   "execution_count": 5,
   "metadata": {
    "collapsed": true
   },
   "outputs": [],
   "source": [
    "#cost function\n",
    "def costFunction(theta, X, y):\n",
    "    m = len(y)\n",
    "    hx = sigm(np.dot(X, theta))\n",
    "    J = 1/m*(-np.dot(y, np.log(hx))-np.dot((1-y),np.log(1-hx)))\n",
    "    #path for log 0\n",
    "    if np.isnan(J):\n",
    "        return(np.inf)\n",
    "    return(J)"
   ]
  },
  {
   "cell_type": "code",
   "execution_count": 6,
   "metadata": {
    "collapsed": true
   },
   "outputs": [],
   "source": [
    "def gradient(theta, X, y):\n",
    "    m = len(y)\n",
    "    hx = sigm(np.dot(X, theta))\n",
    "    grad = 1/m*np.dot(X.T, hx-y)\n",
    "    return(grad.flatten())"
   ]
  },
  {
   "cell_type": "code",
   "execution_count": 7,
   "metadata": {
    "collapsed": false
   },
   "outputs": [],
   "source": [
    "m = len(y)\n",
    "X = np.column_stack((np.ones(m), x))\n",
    "p = X.shape[1]\n",
    "initial_theta = np.zeros(p)"
   ]
  },
  {
   "cell_type": "code",
   "execution_count": 8,
   "metadata": {
    "collapsed": false
   },
   "outputs": [],
   "source": [
    "cost = costFunction(initial_theta, X, y)\n",
    "grad = gradient(initial_theta, X, y)"
   ]
  },
  {
   "cell_type": "code",
   "execution_count": 9,
   "metadata": {
    "collapsed": false
   },
   "outputs": [
    {
     "name": "stdout",
     "output_type": "stream",
     "text": [
      "Cost at initial theta (zerors): 0.69314718056\n",
      "Gradient at initial theta (zeros): [ -0.1        -12.00921659 -11.26284221]\n"
     ]
    }
   ],
   "source": [
    "print('Cost at initial theta (zerors):', cost)\n",
    "print('Gradient at initial theta (zeros):', grad)\n"
   ]
  },
  {
   "cell_type": "markdown",
   "metadata": {},
   "source": [
    "#### Learning parameters"
   ]
  },
  {
   "cell_type": "code",
   "execution_count": 10,
   "metadata": {
    "collapsed": false
   },
   "outputs": [
    {
     "name": "stderr",
     "output_type": "stream",
     "text": [
      "C:\\Anaconda3\\lib\\site-packages\\ipykernel\\__main__.py:5: RuntimeWarning: divide by zero encountered in log\n"
     ]
    },
    {
     "data": {
      "text/plain": [
       "      fun: 0.2034977015894407\n",
       " hess_inv: array([[  3.24739469e+03,  -2.59380769e+01,  -2.63469561e+01],\n",
       "       [ -2.59380769e+01,   2.21449124e-01,   1.97772068e-01],\n",
       "       [ -2.63469561e+01,   1.97772068e-01,   2.29018831e-01]])\n",
       "      jac: array([ -2.73305488e-10,   1.43144016e-07,  -1.58965813e-07])\n",
       "  message: 'Optimization terminated successfully.'\n",
       "     nfev: 28\n",
       "      nit: 23\n",
       "     njev: 28\n",
       "   status: 0\n",
       "  success: True\n",
       "        x: array([-25.16133401,   0.20623172,   0.2014716 ])"
      ]
     },
     "execution_count": 10,
     "metadata": {},
     "output_type": "execute_result"
    }
   ],
   "source": [
    "res = minimize(costFunction, initial_theta, args=(X,y), method = None, jac=gradient, options={'maxiter':400})\n",
    "res"
   ]
  }
 ],
 "metadata": {
  "anaconda-cloud": {},
  "kernelspec": {
   "display_name": "Python [Root]",
   "language": "python",
   "name": "Python [Root]"
  },
  "language_info": {
   "codemirror_mode": {
    "name": "ipython",
    "version": 3
   },
   "file_extension": ".py",
   "mimetype": "text/x-python",
   "name": "python",
   "nbconvert_exporter": "python",
   "pygments_lexer": "ipython3",
   "version": "3.5.2"
  }
 },
 "nbformat": 4,
 "nbformat_minor": 0
}

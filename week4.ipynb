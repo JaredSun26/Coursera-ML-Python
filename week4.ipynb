{
 "cells": [
  {
   "cell_type": "code",
   "execution_count": 18,
   "metadata": {
    "collapsed": true
   },
   "outputs": [],
   "source": [
    "import numpy as np\n",
    "import pandas as pd\n",
    "import matplotlib.pyplot as plt\n",
    "import scipy.io as sio\n",
    "from scipy.optimize import minimize\n",
    "%matplotlib inline"
   ]
  },
  {
   "cell_type": "code",
   "execution_count": 19,
   "metadata": {
    "collapsed": true
   },
   "outputs": [],
   "source": [
    "data = sio.loadmat('data/ex3data1.mat')\n",
    "weights = sio.loadmat('data/ex3weights.mat')"
   ]
  },
  {
   "cell_type": "code",
   "execution_count": 20,
   "metadata": {
    "collapsed": false
   },
   "outputs": [
    {
     "data": {
      "text/plain": [
       "dict_keys(['__version__', 'X', '__globals__', 'y', '__header__'])"
      ]
     },
     "execution_count": 20,
     "metadata": {},
     "output_type": "execute_result"
    }
   ],
   "source": [
    "data.keys()"
   ]
  },
  {
   "cell_type": "code",
   "execution_count": 21,
   "metadata": {
    "collapsed": false
   },
   "outputs": [
    {
     "data": {
      "text/plain": [
       "dict_keys(['__version__', 'Theta2', '__globals__', 'Theta1', '__header__'])"
      ]
     },
     "execution_count": 21,
     "metadata": {},
     "output_type": "execute_result"
    }
   ],
   "source": [
    "weights.keys()"
   ]
  },
  {
   "cell_type": "code",
   "execution_count": 22,
   "metadata": {
    "collapsed": false
   },
   "outputs": [],
   "source": [
    "X = data['X']\n",
    "y = data['y'].flatten()\n",
    "theta1 = weights['Theta1']\n",
    "theta2 = weights['Theta2']\n",
    "para = np.append(theta1.flatten(), theta2.flatten())"
   ]
  },
  {
   "cell_type": "code",
   "execution_count": 23,
   "metadata": {
    "collapsed": false
   },
   "outputs": [],
   "source": [
    "temp = np.linspace(0, 9, 10)"
   ]
  },
  {
   "cell_type": "markdown",
   "metadata": {},
   "source": [
    "# Feedforward and cost function"
   ]
  },
  {
   "cell_type": "markdown",
   "metadata": {},
   "source": [
    "#### Cost function for the neural network"
   ]
  },
  {
   "cell_type": "markdown",
   "metadata": {},
   "source": [
    "\\begin{equation}\n",
    "J(\\theta) = \\frac{1}{m}\\sum_{i=1}^m \\sum_{k=1}^K [-y_k^{(i)}\\log((h_{\\theta}(x^{(i)}))_k) -(1 - y_k^{(i)})\\log(1-(h_{\\theta}(x^{(i)}))_k) ]\n",
    "\\end{equation}"
   ]
  },
  {
   "cell_type": "code",
   "execution_count": 24,
   "metadata": {
    "collapsed": true
   },
   "outputs": [],
   "source": [
    "#sigmoid function\n",
    "def sigm(x):\n",
    "    return(1/(1+np.exp(-x)))"
   ]
  },
  {
   "cell_type": "code",
   "execution_count": 25,
   "metadata": {
    "collapsed": true
   },
   "outputs": [],
   "source": [
    "def sigmoidGradient(x):\n",
    "    return(sigm(x)*(1-sigm(x)))"
   ]
  },
  {
   "cell_type": "code",
   "execution_count": 26,
   "metadata": {
    "collapsed": true
   },
   "outputs": [],
   "source": [
    "def randInitializeWeights(length, epsilon_init = 0.12):\n",
    "    return(np.random.uniform(-epsilon_init, epsilon_init, length))    "
   ]
  },
  {
   "cell_type": "code",
   "execution_count": 27,
   "metadata": {
    "collapsed": true
   },
   "outputs": [],
   "source": [
    "def predict(Theta1, Theta2, X, m):\n",
    "    a1 = np.column_stack((np.ones(m), X)) #5000x401\n",
    "    z2 = a1.dot(Theta1.T) # 5000x401 * 401x25 = 5000x25 \n",
    "    a2 = np.column_stack((np.ones(z2.shape[0]), sigm(z2))) # 5000x26\n",
    "    z3 = a2.dot(Theta2.T) # 5000x26 * 26x10 = 5000x10\n",
    "    a3 = sigm(z3) #5000x10\n",
    "    return(a1, a2, a3, z2, z3)"
   ]
  },
  {
   "cell_type": "code",
   "execution_count": 28,
   "metadata": {
    "collapsed": true
   },
   "outputs": [],
   "source": [
    "#cost function\n",
    "def nnCostFunction(nn_params, input_layer_size, hidden_layer_size, num_labels, X, y, lam):\n",
    "    Theta1 = np.reshape(nn_params[:((input_layer_size+1)*hidden_layer_size)], (hidden_layer_size, input_layer_size+1))\n",
    "    Theta2 = np.reshape(nn_params[((input_layer_size+1)*hidden_layer_size):], (num_labels, hidden_layer_size+1))\n",
    "    \n",
    "    m = X.shape[0]\n",
    "    J = 0\n",
    "    \n",
    "    #recode y\n",
    "    y_new = pd.get_dummies(y).as_matrix() # 5000*10\n",
    "    \n",
    "    #feedforwad\n",
    "    a1, a2, a3, z2, z3 = predict(Theta1, Theta2, X, m)\n",
    "    \n",
    "    #cost\n",
    "    J = 1/m*(-np.sum((y_new * np.log(a3)))-np.sum((1-y_new)*np.log(1-a3)))\\\n",
    "    + lam/(2*m) * (np.sum(np.square(Theta1[:,1:])) + np.sum(np.square(Theta2[:,1:])))\n",
    "    \n",
    "    return(J)"
   ]
  },
  {
   "cell_type": "code",
   "execution_count": 29,
   "metadata": {
    "collapsed": false
   },
   "outputs": [
    {
     "data": {
      "text/plain": [
       "0.38376985909092359"
      ]
     },
     "execution_count": 29,
     "metadata": {},
     "output_type": "execute_result"
    }
   ],
   "source": [
    "nnCostFunction(para, 400, 25, 10, X, y, 1)"
   ]
  },
  {
   "cell_type": "code",
   "execution_count": 30,
   "metadata": {
    "collapsed": true
   },
   "outputs": [],
   "source": [
    "#gradient function\n",
    "def nnGradientFun(nn_params, input_layer_size, hidden_layer_size, num_labels, X, y, lam):\n",
    "    Theta1 = np.reshape(nn_params[:((input_layer_size+1)*hidden_layer_size)], (hidden_layer_size, input_layer_size+1))\n",
    "    Theta2 = np.reshape(nn_params[((input_layer_size+1)*hidden_layer_size):], (num_labels, hidden_layer_size+1))\n",
    "    \n",
    "    Theta1_grad = np.zeros(Theta1.size) # 25x401\n",
    "    Theta2_grad = np.zeros(Theta2.size) # 10x26\n",
    "    m = X.shape[0]\n",
    "    #recode y\n",
    "    y_new = pd.get_dummies(y).as_matrix() # 5000*10\n",
    "    \n",
    "    a1, a2, a3, z2, z3 = predict(Theta1, Theta2, X, m)\n",
    "    #gradient\n",
    "    d3 = a3 - y_new # 5000x10\n",
    "    d2 = d3.dot(Theta2[:,1:])*sigmoidGradient(z2) # 5000x10*10x25 = 5000x25\n",
    "    \n",
    "    Theta2_grad = 1/m*d3.T.dot(a2) + lam/m*np.column_stack((np.zeros(num_labels), Theta2[:,1:]))# 10x5000*5000x26 \n",
    "    Theta1_grad = 1/m*d2.T.dot(a1) + lam/m*np.column_stack((np.zeros(hidden_layer_size), Theta1[:, 1:])) # 25x5000*5000x401\n",
    "    return(np.append(Theta2_grad.flatten(), Theta1_grad.flatten()))"
   ]
  },
  {
   "cell_type": "markdown",
   "metadata": {
    "collapsed": false
   },
   "source": [
    "#### Gradient checking"
   ]
  },
  {
   "cell_type": "markdown",
   "metadata": {},
   "source": [
    "\\begin{equation}\n",
    "f_i(\\theta) \\approx \\frac{J(\\theta^{(i+)})-J(\\theta^{(i-)})}{2\\epsilon}\n",
    "\\end{equation}"
   ]
  },
  {
   "cell_type": "code",
   "execution_count": 31,
   "metadata": {
    "collapsed": true
   },
   "outputs": [],
   "source": [
    "def checkNNGradients(nn_params, input_layer_size, hidden_layer_size, num_labels, X, y, lam, eps=10^(-4)):\n",
    "    n = nn_params.size\n",
    "    numGrad = np.zeros(n)\n",
    "    \n",
    "    paraPlus = np.tile(nn_params, (n, 1)) + np.diag(np.ones(n))*eps\n",
    "    paraMinus = np.tile(nn_params, (n, 1)) - np.diag(np.ones(n))*eps\n",
    "    \n",
    "    for i in range(0, 3):\n",
    "        costPlus = nnCostFunction(paraPlus[i,:], input_layer_size, hidden_layer_size, num_labels, X, y, lam)\n",
    "        costMinus = nnCostFunction(paraMinus[i, :], input_layer_size, hidden_layer_size, num_labels, X, y, lam)\n",
    "        numGrad[i] = (costPlus - costMinus)/2/eps\n",
    "    return(numGrad)"
   ]
  },
  {
   "cell_type": "code",
   "execution_count": 32,
   "metadata": {
    "collapsed": false
   },
   "outputs": [
    {
     "data": {
      "text/plain": [
       "array([  1.80912511e-03,  -2.11248241e-12,   4.38829528e-13, ...,\n",
       "         0.00000000e+00,   0.00000000e+00,   0.00000000e+00])"
      ]
     },
     "execution_count": 32,
     "metadata": {},
     "output_type": "execute_result"
    }
   ],
   "source": [
    "checkNNGradients(para, 400, 25, 10, X, y, 1)"
   ]
  },
  {
   "cell_type": "code",
   "execution_count": 33,
   "metadata": {
    "collapsed": false
   },
   "outputs": [
    {
     "data": {
      "text/plain": [
       "array([  6.28737643e-04,   5.08457277e-04,   7.84221985e-05, ...,\n",
       "         4.69418663e-09,   2.83929031e-09,   1.75890906e-12])"
      ]
     },
     "execution_count": 33,
     "metadata": {},
     "output_type": "execute_result"
    }
   ],
   "source": [
    "nnGradientFun(para, 400, 25, 10, X, y, 1)"
   ]
  },
  {
   "cell_type": "code",
   "execution_count": 34,
   "metadata": {
    "collapsed": false
   },
   "outputs": [
    {
     "data": {
      "text/plain": [
       "      fun: 0.38376985909092359\n",
       " hess_inv: array([[1, 0, 0, ..., 0, 0, 0],\n",
       "       [0, 1, 0, ..., 0, 0, 0],\n",
       "       [0, 0, 1, ..., 0, 0, 0],\n",
       "       ..., \n",
       "       [0, 0, 0, ..., 1, 0, 0],\n",
       "       [0, 0, 0, ..., 0, 1, 0],\n",
       "       [0, 0, 0, ..., 0, 0, 1]])\n",
       "      jac: array([  6.28737643e-04,   5.08457277e-04,   7.84221985e-05, ...,\n",
       "         4.69418663e-09,   2.83929031e-09,   1.75890906e-12])\n",
       "  message: 'Desired error not necessarily achieved due to precision loss.'\n",
       "     nfev: 26\n",
       "      nit: 0\n",
       "     njev: 14\n",
       "   status: 2\n",
       "  success: False\n",
       "        x: array([ -2.25623899e-02,  -1.05624163e-08,   2.19414684e-09, ...,\n",
       "        -2.47795788e-01,   1.28009118e+00,  -1.32752042e+00])"
      ]
     },
     "execution_count": 34,
     "metadata": {},
     "output_type": "execute_result"
    }
   ],
   "source": [
    "minimize(nnCostFunction, para, args=(400, 25, 10, X, y, 1), jac=nnGradientFun, options={'maxiter':50})"
   ]
  }
 ],
 "metadata": {
  "anaconda-cloud": {},
  "kernelspec": {
   "display_name": "Python [Root]",
   "language": "python",
   "name": "Python [Root]"
  },
  "language_info": {
   "codemirror_mode": {
    "name": "ipython",
    "version": 3
   },
   "file_extension": ".py",
   "mimetype": "text/x-python",
   "name": "python",
   "nbconvert_exporter": "python",
   "pygments_lexer": "ipython3",
   "version": "3.5.2"
  }
 },
 "nbformat": 4,
 "nbformat_minor": 0
}
